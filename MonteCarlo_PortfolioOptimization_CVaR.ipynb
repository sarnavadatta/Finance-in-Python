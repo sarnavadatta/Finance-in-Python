{
  "nbformat": 4,
  "nbformat_minor": 0,
  "metadata": {
    "colab": {
      "provenance": [],
      "authorship_tag": "ABX9TyP0PMt4oiFoCtAhJmzpPnQU",
      "include_colab_link": true
    },
    "kernelspec": {
      "name": "python3",
      "display_name": "Python 3"
    },
    "language_info": {
      "name": "python"
    }
  },
  "cells": [
    {
      "cell_type": "markdown",
      "metadata": {
        "id": "view-in-github",
        "colab_type": "text"
      },
      "source": [
        "<a href=\"https://colab.research.google.com/github/sarnavadatta/Finance-in-Python/blob/main/MonteCarlo_PortfolioOptimization_CVaR.ipynb\" target=\"_parent\"><img src=\"https://colab.research.google.com/assets/colab-badge.svg\" alt=\"Open In Colab\"/></a>"
      ]
    },
    {
      "cell_type": "markdown",
      "source": [
        "# Portfolio Optimization with Monte Carlo Simulation and CVaR\n",
        "\n",
        "This notebook demonstrates a portfolio optimization process using historical stock data, Monte Carlo simulation for future price path generation, and Conditional Value at Risk (CVaR) optimization to determine optimal asset weights under specified constraints."
      ],
      "metadata": {
        "id": "A-tA1QeBJleb"
      }
    },
    {
      "cell_type": "code",
      "execution_count": null,
      "metadata": {
        "id": "mHiJVJgN8FbS"
      },
      "outputs": [],
      "source": [
        "import numpy as np\n",
        "import pandas as pd\n",
        "import yfinance as yf\n",
        "import matplotlib.pyplot as plt\n",
        "import cvxpy as cp"
      ]
    },
    {
      "cell_type": "code",
      "source": [
        "# Data Fetching ---\n",
        "tickers = ['AAPL', 'TSLA', 'GOOG', 'META', 'MSFT', 'AMZN']\n",
        "data = yf.download(tickers, start='2018-01-01', end='2025-07-07')['Close']\n",
        "\n",
        "# Calculate Log returns\n",
        "log_returns = np.log(data / data.shift(1)).dropna()\n",
        "\n",
        "# Parameter Estimation\n",
        "mu = log_returns.mean().values\n",
        "cov = log_returns.cov().values\n",
        "L = np.linalg.cholesky(cov)\n",
        "\n",
        "# Current prices\n",
        "S0 = data.iloc[-1].values"
      ],
      "metadata": {
        "colab": {
          "base_uri": "https://localhost:8080/"
        },
        "id": "x69xYYOl8lZ3",
        "outputId": "efa27cb3-fcd9-4d0b-85d6-cf983d9d78f4"
      },
      "execution_count": null,
      "outputs": [
        {
          "output_type": "stream",
          "name": "stderr",
          "text": [
            "/tmp/ipython-input-2-3534635282.py:3: FutureWarning: YF.download() has changed argument auto_adjust default to True\n",
            "  data = yf.download(tickers, start='2018-01-01', end='2025-07-07')['Close']\n",
            "[*********************100%***********************]  6 of 6 completed\n"
          ]
        }
      ]
    },
    {
      "cell_type": "markdown",
      "source": [
        "The price at time $t$, $S_t$, is simulated using the following formula, based on geometric Brownian motion:\n",
        "\n",
        "$$\n",
        "S_t = S_{t-\\Delta t} \\exp\\left( (\\mu - \\frac{1}{2}\\Sigma) \\Delta t + L Z_t \\sqrt{\\Delta t} \\right)\n",
        "$$\n",
        "\n",
        "Where:\n",
        "*   $S_t$: Price at time $t$.\n",
        "*   $S_{t-\\Delta t}$: Price at the previous time step $t-\\Delta t$.\n",
        "*   $\\mu$: Vector of expected log returns.\n",
        "*   $\\Sigma$: Covariance matrix of log returns.\n",
        "*   $\\Delta t$: Time step size.\n",
        "*   $L$: Cholesky decomposition of the covariance matrix $\\Sigma$, such that $\\Sigma = LL^T$.\n",
        "*   $Z_t$: Vector of independent standard normal random variables at time $t$.\n",
        "*   $LZ_t$: Vector of correlated normal random variables."
      ],
      "metadata": {
        "id": "cRVQOeejCwez"
      }
    },
    {
      "cell_type": "code",
      "source": [
        "# --- Monte Carlo Simulation ---\n",
        "T = 1\n",
        "N = 252\n",
        "M = 10000\n",
        "dt = T / N\n",
        "n_assets = len(tickers)\n",
        "np.random.seed(42)\n",
        "\n",
        "simulated_paths = np.zeros((N, M, n_assets))\n",
        "simulated_paths[0] = S0\n",
        "\n",
        "for t in range(1, N):\n",
        "    Z = np.random.standard_normal((M, n_assets))\n",
        "    correlated_Z = Z @ L.T\n",
        "    drift = (mu - 0.5 * np.diag(cov)) * dt\n",
        "    diffusion = correlated_Z * np.sqrt(dt)\n",
        "    log_returns_t = drift + diffusion\n",
        "    simulated_paths[t] = simulated_paths[t-1] * np.exp(log_returns_t)\n",
        "\n",
        "# --- Final Prices (1 Year) ---\n",
        "final_prices = simulated_paths[-1]  # shape: (M, n_assets)\n"
      ],
      "metadata": {
        "id": "zuNq-Y1n8qkH"
      },
      "execution_count": null,
      "outputs": []
    },
    {
      "cell_type": "markdown",
      "source": [
        "The optimization problem is formulated to minimize the Conditional Value at Risk (CVaR) of the portfolio, which is a more robust risk measure than Value at Risk (VaR). The objective function and constraints are as follows:\n",
        "\n",
        "**Minimize:**\n",
        "\n",
        "$$\n",
        "\\text{CVaR}_{\\alpha} = \\text{VaR}_{\\alpha} + \\frac{1}{\\alpha M} \\sum_{m=1}^{M} \\max(0, \\text{Initial Value} - \\text{Portfolio Value}_m - \\text{VaR}_{\\alpha})\n",
        "$$\n",
        "\n",
        "Where:\n",
        "*   $\\text{CVaR}_{\\alpha}$: Conditional Value at Risk at the $\\alpha$ confidence level.\n",
        "*   $\\text{VaR}_{\\alpha}$: Value at Risk at the $\\alpha$ confidence level.\n",
        "*   $\\alpha$: The confidence level (e.g., 0.05 for 95% VaR/CVaR).\n",
        "*   $M$: The number of Monte Carlo simulations.\n",
        "*   $\\text{Initial Value}$: The initial value of the portfolio (normalized to 1.0 in this case).\n",
        "*   $\\text{Portfolio Value}_m$: The simulated portfolio value in the $m$-th simulation.\n",
        "\n",
        "In the provided code, a linear approximation of the CVaR objective is used, which is equivalent to minimizing $\\text{VaR} + \\frac{1}{\\alpha M} \\sum_{m=1}^{M} z_m$, subject to $z_m \\ge 0$ and $z_m \\ge \\text{Initial Value} - \\text{Portfolio Value}_m - \\text{VaR}$ for each simulation $m$.\n",
        "\n",
        "**Subject to the following constraints:**\n",
        "\n",
        "1.  **Sum of Weights Constraint:** The sum of the portfolio weights must equal 1. This ensures that the entire portfolio value is allocated among the selected assets.\n",
        "    $$\n",
        "    \\sum_{i=1}^{n} w_i = 1\n",
        "    $$\n",
        "    Where $w_i$ is the weight of asset $i$ and $n$ is the number of assets.\n",
        "\n",
        "2.  **Minimum Weight Constraint:** Each asset must have a minimum allocation of 5% (0.05). This constraint prevents concentrating the entire portfolio into a single asset and promotes diversification.\n",
        "    $$\n",
        "    w_i \\ge 0.05 \\quad \\text{for all } i=1, \\dots, n\n",
        "    $$\n",
        "\n",
        "3.  **Maximum Weight Constraint:** Each asset can have a maximum allocation of 30% (0.3). This constraint also helps in diversification and limits the exposure to any single asset.\n",
        "    $$\n",
        "    w_i \\le 0.3 \\quad \\text{for all } i=1, \\dots, n\n",
        "    $$\n",
        "\n",
        "4.  **Auxiliary Variable Constraint (for CVaR linear approximation):** These constraints are part of the linear approximation of the CVaR objective. They ensure that the auxiliary variables $z_m$ capture the \"losses exceeding VaR\" for each simulation $m$.\n",
        "\n",
        "  $$\n",
        "    z_m \\ge 0 \\quad \\text{for all } m=1, \\dots, M\n",
        "  $$\n",
        "\n",
        "  $$\n",
        "  z_m \\ge \\text{Initial Value} - \\text{Portfolio Value}_m - \\text{VaR}_{\\alpha} \\quad \\text{for all } m=1, \\dots, M\n",
        "  $$\n",
        "\n",
        "The optimization problem finds the optimal portfolio weights ($w_i$) that minimize the CVaR while satisfying these allocation constraints."
      ],
      "metadata": {
        "id": "aqpAc05FI06l"
      }
    },
    {
      "cell_type": "code",
      "source": [
        "# --- Step 4: Optimize Portfolio Under Constraints ---\n",
        "alpha = 0.05\n",
        "initial_portfolio_value = 1.0  # normalized\n",
        "\n",
        "# CVaR Optimization (linear approx of VaR)\n",
        "w = cp.Variable(n_assets)\n",
        "portfolio_values = final_prices @ w\n",
        "VaR = cp.Variable()\n",
        "z = cp.Variable(M)\n",
        "\n",
        "objective = VaR + (1 / (alpha * M)) * cp.sum(z)\n",
        "constraints = [\n",
        "    cp.sum(w) == 1,\n",
        "    w >= 0.05,\n",
        "    w <= 0.3,\n",
        "    z >= 0,\n",
        "    z >= initial_portfolio_value - portfolio_values - VaR\n",
        "]\n",
        "\n",
        "problem = cp.Problem(cp.Minimize(objective), constraints)\n",
        "problem.solve()\n",
        "\n",
        "# --- Step 5: Output Optimal Weights and VaR ---\n",
        "optimal_weights = w.value\n",
        "portfolio_vals = final_prices @ optimal_weights\n",
        "VaR_optimized = initial_portfolio_value - np.percentile(portfolio_vals, 5)\n",
        "\n",
        "print(\"Optimal Portfolio Weights with Constraints:\")\n",
        "for i, ticker in enumerate(tickers):\n",
        "    print(f\"{ticker}: {optimal_weights[i]:.4f}\")\n",
        "\n",
        "print(f\"\\n Constrained Portfolio VaR (95%, 1 year): ${VaR_optimized:.4f}\")"
      ],
      "metadata": {
        "colab": {
          "base_uri": "https://localhost:8080/"
        },
        "id": "xE67wBub8wOZ",
        "outputId": "12209e3a-30cc-45a1-b150-794eb1245a2d"
      },
      "execution_count": null,
      "outputs": [
        {
          "output_type": "stream",
          "name": "stdout",
          "text": [
            "Optimal Portfolio Weights with Constraints:\n",
            "AAPL: 0.0500\n",
            "TSLA: 0.0500\n",
            "GOOG: 0.0500\n",
            "META: 0.3000\n",
            "MSFT: 0.3000\n",
            "AMZN: 0.2500\n",
            "\n",
            " Constrained Portfolio VaR (95%, 1 year): $-458.1026\n"
          ]
        }
      ]
    },
    {
      "cell_type": "code",
      "source": [
        "# Plot final portfolio distribution\n",
        "plt.figure(figsize=(10, 4))\n",
        "plt.hist(portfolio_vals, bins=100, color='lightgray', edgecolor='black')\n",
        "plt.axvline(np.percentile(portfolio_vals, 5), color='red', linestyle='--', label='5% VaR')\n",
        "plt.axvline(initial_portfolio_value, color='green', linestyle='-', label='Initial Value')\n",
        "plt.title(\"Optimized Portfolio Value Distribution (with Constraints)\")\n",
        "plt.xlabel(\"Portfolio Value\")\n",
        "plt.ylabel(\"Frequency\")\n",
        "plt.legend()\n",
        "plt.grid(True)\n",
        "plt.show()"
      ],
      "metadata": {
        "colab": {
          "base_uri": "https://localhost:8080/",
          "height": 410
        },
        "id": "S9ZfuaCv82LE",
        "outputId": "2f0aad3f-ff60-4605-ff52-d439400ab1a0"
      },
      "execution_count": null,
      "outputs": [
        {
          "output_type": "display_data",
          "data": {
            "text/plain": [
              "<Figure size 1000x400 with 1 Axes>"
            ],
            "image/png": "[encoded data removed]"
          },
          "metadata": {}
        }
      ]
    },
    {
      "cell_type": "code",
      "source": [],
      "metadata": {
        "id": "EiBfWzj-91sf"
      },
      "execution_count": null,
      "outputs": []
    }
  ]
}