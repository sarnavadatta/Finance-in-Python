{
  "nbformat": 4,
  "nbformat_minor": 0,
  "metadata": {
    "colab": {
      "provenance": [],
      "authorship_tag": "ABX9TyNR0pIv3kOn2FUW7Cg7hCb8",
      "include_colab_link": true
    },
    "kernelspec": {
      "name": "python3",
      "display_name": "Python 3"
    }
  },
  "cells": [
    {
      "cell_type": "markdown",
      "metadata": {
        "id": "view-in-github",
        "colab_type": "text"
      },
      "source": [
        "<a href=\"https://colab.research.google.com/github/sarnavadatta/Finance-in-Python/blob/main/portfolio_optimization.ipynb\" target=\"_parent\"><img src=\"https://colab.research.google.com/assets/colab-badge.svg\" alt=\"Open In Colab\"/></a>"
      ]
    },
    {
      "cell_type": "code",
      "metadata": {
        "id": "vXtMv_De8Wm4"
      },
      "source": [
        "from pandas_datareader import data as web\n",
        "import pandas as pd\n",
        "import numpy as np\n",
        "from datetime import datetime\n",
        "import matplotlib.pyplot as plt"
      ],
      "execution_count": null,
      "outputs": []
    },
    {
      "cell_type": "code",
      "metadata": {
        "id": "jTle-nnj9q4q"
      },
      "source": [
        "#FAANG\n",
        "assets=['FB','AMZN','AAPL','NFLX','GOOG']\n",
        "weights=np.array([0.2,0.2,0.2,0.2,0.2])"
      ],
      "execution_count": null,
      "outputs": []
    },
    {
      "cell_type": "code",
      "metadata": {
        "colab": {
          "base_uri": "https://localhost:8080/",
          "height": 35
        },
        "id": "-Tt2PJTl-jtO",
        "outputId": "bed98ba4-3c95-4374-f592-75d577e2c33e"
      },
      "source": [
        "stockStartDate='2013-01-01'\n",
        "today=datetime.today().strftime('%Y-%m-%d')\n",
        "today"
      ],
      "execution_count": null,
      "outputs": [
        {
          "output_type": "execute_result",
          "data": {
            "application/vnd.google.colaboratory.intrinsic+json": {
              "type": "string"
            },
            "text/plain": [
              "'2021-11-09'"
            ]
          },
          "metadata": {},
          "execution_count": 3
        }
      ]
    },
    {
      "cell_type": "code",
      "metadata": {
        "id": "vVJrlmTb--RZ"
      },
      "source": [
        "# df=pd.DataFrame()\n",
        "# for stock in assets:\n",
        "#   df[stock]=web.DataReader(stock,data_source='yahoo', start=stockStartDate, end=today)['Adj Close']\n",
        "\n",
        "# df"
      ],
      "execution_count": null,
      "outputs": []
    },
    {
      "cell_type": "code",
      "metadata": {
        "colab": {
          "base_uri": "https://localhost:8080/"
        },
        "id": "0FuJN2asP4QY",
        "outputId": "4e524f6b-1b72-4f90-aa9b-be30446545be"
      },
      "source": [
        "!pip install yfinance"
      ],
      "execution_count": null,
      "outputs": [
        {
          "output_type": "stream",
          "name": "stdout",
          "text": [
            "Collecting yfinance\n",
            "  Downloading yfinance-0.1.64.tar.gz (26 kB)\n",
            "Requirement already satisfied: pandas>=0.24 in /usr/local/lib/python3.7/dist-packages (from yfinance) (1.1.5)\n",
            "Requirement already satisfied: numpy>=1.15 in /usr/local/lib/python3.7/dist-packages (from yfinance) (1.19.5)\n",
            "Requirement already satisfied: requests>=2.20 in /usr/local/lib/python3.7/dist-packages (from yfinance) (2.23.0)\n",
            "Requirement already satisfied: multitasking>=0.0.7 in /usr/local/lib/python3.7/dist-packages (from yfinance) (0.0.9)\n",
            "Collecting lxml>=4.5.1\n",
            "  Downloading lxml-4.6.4-cp37-cp37m-manylinux_2_17_x86_64.manylinux2014_x86_64.manylinux_2_24_x86_64.whl (6.3 MB)\n",
            "\u001b[K     |████████████████████████████████| 6.3 MB 11.0 MB/s \n",
            "\u001b[?25hRequirement already satisfied: pytz>=2017.2 in /usr/local/lib/python3.7/dist-packages (from pandas>=0.24->yfinance) (2018.9)\n",
            "Requirement already satisfied: python-dateutil>=2.7.3 in /usr/local/lib/python3.7/dist-packages (from pandas>=0.24->yfinance) (2.8.2)\n",
            "Requirement already satisfied: six>=1.5 in /usr/local/lib/python3.7/dist-packages (from python-dateutil>=2.7.3->pandas>=0.24->yfinance) (1.15.0)\n",
            "Requirement already satisfied: chardet<4,>=3.0.2 in /usr/local/lib/python3.7/dist-packages (from requests>=2.20->yfinance) (3.0.4)\n",
            "Requirement already satisfied: urllib3!=1.25.0,!=1.25.1,<1.26,>=1.21.1 in /usr/local/lib/python3.7/dist-packages (from requests>=2.20->yfinance) (1.24.3)\n",
            "Requirement already satisfied: idna<3,>=2.5 in /usr/local/lib/python3.7/dist-packages (from requests>=2.20->yfinance) (2.10)\n",
            "Requirement already satisfied: certifi>=2017.4.17 in /usr/local/lib/python3.7/dist-packages (from requests>=2.20->yfinance) (2021.5.30)\n",
            "Building wheels for collected packages: yfinance\n",
            "  Building wheel for yfinance (setup.py) ... \u001b[?25l\u001b[?25hdone\n",
            "  Created wheel for yfinance: filename=yfinance-0.1.64-py2.py3-none-any.whl size=24109 sha256=8d17c6bf7f9463d0a41f1b645aace9c6292cd4867c9ab4a9b81ce71681676a46\n",
            "  Stored in directory: /root/.cache/pip/wheels/86/fe/9b/a4d3d78796b699e37065e5b6c27b75cff448ddb8b24943c288\n",
            "Successfully built yfinance\n",
            "Installing collected packages: lxml, yfinance\n",
            "  Attempting uninstall: lxml\n",
            "    Found existing installation: lxml 4.2.6\n",
            "    Uninstalling lxml-4.2.6:\n",
            "      Successfully uninstalled lxml-4.2.6\n",
            "Successfully installed lxml-4.6.4 yfinance-0.1.64\n"
          ]
        }
      ]
    },
    {
      "cell_type": "code",
      "metadata": {
        "colab": {
          "base_uri": "https://localhost:8080/",
          "height": 455
        },
        "id": "7zQeY7gxP7ZK",
        "outputId": "6dd9a8ad-5ec9-44be-f3c6-b61d53ab71c0"
      },
      "source": [
        "import yfinance as yf\n",
        "import datetime\n",
        "import pandas as pd\n",
        "\n",
        "start = datetime.datetime(2017,8,15)\n",
        "end = datetime.datetime(2021,11,8)\n",
        "\n",
        "df=[]\n",
        "df=pd.DataFrame(df)\n",
        "#Tickers=[\"BTC-USD\",\"ETH-USD\",\"XRP-USD\",\"LTC-USD\",\"ADA-USD\",\"LINK-USD\"]\n",
        "#assets=['FB','AMZN','AAPL','NFLX','GOOG']\n",
        "Tickers=assets\n",
        "for ticker in Tickers:\n",
        "  data= pd.DataFrame(yf.Ticker(ticker).history(start=start, end=end)['Close'])\n",
        "  df=pd.concat([df, data], axis=1)\n",
        "\n",
        "df.set_axis(Tickers, axis='columns', inplace=True)\n",
        "df"
      ],
      "execution_count": null,
      "outputs": [
        {
          "output_type": "execute_result",
          "data": {
            "text/html": [
              "<div>\n",
              "<style scoped>\n",
              "    .dataframe tbody tr th:only-of-type {\n",
              "        vertical-align: middle;\n",
              "    }\n",
              "\n",
              "    .dataframe tbody tr th {\n",
              "        vertical-align: top;\n",
              "    }\n",
              "\n",
              "    .dataframe thead th {\n",
              "        text-align: right;\n",
              "    }\n",
              "</style>\n",
              "<table border=\"1\" class=\"dataframe\">\n",
              "  <thead>\n",
              "    <tr style=\"text-align: right;\">\n",
              "      <th></th>\n",
              "      <th>FB</th>\n",
              "      <th>AMZN</th>\n",
              "      <th>AAPL</th>\n",
              "      <th>NFLX</th>\n",
              "      <th>GOOG</th>\n",
              "    </tr>\n",
              "    <tr>\n",
              "      <th>Date</th>\n",
              "      <th></th>\n",
              "      <th></th>\n",
              "      <th></th>\n",
              "      <th></th>\n",
              "      <th></th>\n",
              "    </tr>\n",
              "  </thead>\n",
              "  <tbody>\n",
              "    <tr>\n",
              "      <th>2017-08-15</th>\n",
              "      <td>171.000000</td>\n",
              "      <td>982.739990</td>\n",
              "      <td>38.500904</td>\n",
              "      <td>168.500000</td>\n",
              "      <td>922.219971</td>\n",
              "    </tr>\n",
              "    <tr>\n",
              "      <th>2017-08-16</th>\n",
              "      <td>170.000000</td>\n",
              "      <td>978.179993</td>\n",
              "      <td>38.346046</td>\n",
              "      <td>169.979996</td>\n",
              "      <td>926.960022</td>\n",
              "    </tr>\n",
              "    <tr>\n",
              "      <th>2017-08-17</th>\n",
              "      <td>166.910004</td>\n",
              "      <td>960.570007</td>\n",
              "      <td>37.609852</td>\n",
              "      <td>166.089996</td>\n",
              "      <td>910.979980</td>\n",
              "    </tr>\n",
              "    <tr>\n",
              "      <th>2017-08-18</th>\n",
              "      <td>167.410004</td>\n",
              "      <td>958.469971</td>\n",
              "      <td>37.524086</td>\n",
              "      <td>166.539993</td>\n",
              "      <td>910.669983</td>\n",
              "    </tr>\n",
              "    <tr>\n",
              "      <th>2017-08-21</th>\n",
              "      <td>167.779999</td>\n",
              "      <td>953.289978</td>\n",
              "      <td>37.454994</td>\n",
              "      <td>166.759995</td>\n",
              "      <td>906.659973</td>\n",
              "    </tr>\n",
              "    <tr>\n",
              "      <th>...</th>\n",
              "      <td>...</td>\n",
              "      <td>...</td>\n",
              "      <td>...</td>\n",
              "      <td>...</td>\n",
              "      <td>...</td>\n",
              "    </tr>\n",
              "    <tr>\n",
              "      <th>2021-11-01</th>\n",
              "      <td>329.980011</td>\n",
              "      <td>3318.110107</td>\n",
              "      <td>148.742920</td>\n",
              "      <td>681.169983</td>\n",
              "      <td>2875.479980</td>\n",
              "    </tr>\n",
              "    <tr>\n",
              "      <th>2021-11-02</th>\n",
              "      <td>328.079987</td>\n",
              "      <td>3312.750000</td>\n",
              "      <td>149.801376</td>\n",
              "      <td>677.719971</td>\n",
              "      <td>2917.260010</td>\n",
              "    </tr>\n",
              "    <tr>\n",
              "      <th>2021-11-03</th>\n",
              "      <td>331.619995</td>\n",
              "      <td>3384.000000</td>\n",
              "      <td>151.269241</td>\n",
              "      <td>688.289978</td>\n",
              "      <td>2935.800049</td>\n",
              "    </tr>\n",
              "    <tr>\n",
              "      <th>2021-11-04</th>\n",
              "      <td>335.850006</td>\n",
              "      <td>3477.000000</td>\n",
              "      <td>150.740005</td>\n",
              "      <td>668.400024</td>\n",
              "      <td>2973.659912</td>\n",
              "    </tr>\n",
              "    <tr>\n",
              "      <th>2021-11-05</th>\n",
              "      <td>341.130005</td>\n",
              "      <td>3518.989990</td>\n",
              "      <td>151.279999</td>\n",
              "      <td>645.719971</td>\n",
              "      <td>2984.820068</td>\n",
              "    </tr>\n",
              "  </tbody>\n",
              "</table>\n",
              "<p>1066 rows × 5 columns</p>\n",
              "</div>"
            ],
            "text/plain": [
              "                    FB         AMZN        AAPL        NFLX         GOOG\n",
              "Date                                                                    \n",
              "2017-08-15  171.000000   982.739990   38.500904  168.500000   922.219971\n",
              "2017-08-16  170.000000   978.179993   38.346046  169.979996   926.960022\n",
              "2017-08-17  166.910004   960.570007   37.609852  166.089996   910.979980\n",
              "2017-08-18  167.410004   958.469971   37.524086  166.539993   910.669983\n",
              "2017-08-21  167.779999   953.289978   37.454994  166.759995   906.659973\n",
              "...                ...          ...         ...         ...          ...\n",
              "2021-11-01  329.980011  3318.110107  148.742920  681.169983  2875.479980\n",
              "2021-11-02  328.079987  3312.750000  149.801376  677.719971  2917.260010\n",
              "2021-11-03  331.619995  3384.000000  151.269241  688.289978  2935.800049\n",
              "2021-11-04  335.850006  3477.000000  150.740005  668.400024  2973.659912\n",
              "2021-11-05  341.130005  3518.989990  151.279999  645.719971  2984.820068\n",
              "\n",
              "[1066 rows x 5 columns]"
            ]
          },
          "metadata": {},
          "execution_count": 8
        }
      ]
    },
    {
      "cell_type": "code",
      "metadata": {
        "colab": {
          "base_uri": "https://localhost:8080/",
          "height": 303
        },
        "id": "A0p7spENGAnO",
        "outputId": "ab4aad42-30c6-43b0-c22f-2d7711fc13aa"
      },
      "source": [
        "title='portfolio adj. close price history'\n",
        "my_stocks=df\n",
        "for c in my_stocks.columns.values:\n",
        "  plt.plot(my_stocks[c],label=c)\n",
        "\n",
        "plt.title(title)\n",
        "plt.xlabel('Date',fontsize=18)\n",
        "plt.ylabel('Adj. close price USD($)',fontsize=18)\n",
        "plt.legend(my_stocks.columns.values,loc='upper left')\n",
        "plt.show()"
      ],
      "execution_count": null,
      "outputs": [
        {
          "output_type": "display_data",
          "data": {
            "image/png": "[encoded data removed]",
            "text/plain": [
              "<Figure size 432x288 with 1 Axes>"
            ]
          },
          "metadata": {
            "needs_background": "light"
          }
        }
      ]
    },
    {
      "cell_type": "code",
      "metadata": {
        "colab": {
          "base_uri": "https://localhost:8080/",
          "height": 455
        },
        "id": "vXvFKVfmHVTJ",
        "outputId": "91f8325e-7943-4c4b-91f3-ff81fa0559cf"
      },
      "source": [
        "#show daily simple returns\n",
        "returns=df.pct_change()\n",
        "returns"
      ],
      "execution_count": null,
      "outputs": [
        {
          "output_type": "execute_result",
          "data": {
            "text/html": [
              "<div>\n",
              "<style scoped>\n",
              "    .dataframe tbody tr th:only-of-type {\n",
              "        vertical-align: middle;\n",
              "    }\n",
              "\n",
              "    .dataframe tbody tr th {\n",
              "        vertical-align: top;\n",
              "    }\n",
              "\n",
              "    .dataframe thead th {\n",
              "        text-align: right;\n",
              "    }\n",
              "</style>\n",
              "<table border=\"1\" class=\"dataframe\">\n",
              "  <thead>\n",
              "    <tr style=\"text-align: right;\">\n",
              "      <th></th>\n",
              "      <th>FB</th>\n",
              "      <th>AMZN</th>\n",
              "      <th>AAPL</th>\n",
              "      <th>NFLX</th>\n",
              "      <th>GOOG</th>\n",
              "    </tr>\n",
              "    <tr>\n",
              "      <th>Date</th>\n",
              "      <th></th>\n",
              "      <th></th>\n",
              "      <th></th>\n",
              "      <th></th>\n",
              "      <th></th>\n",
              "    </tr>\n",
              "  </thead>\n",
              "  <tbody>\n",
              "    <tr>\n",
              "      <th>2017-08-15</th>\n",
              "      <td>NaN</td>\n",
              "      <td>NaN</td>\n",
              "      <td>NaN</td>\n",
              "      <td>NaN</td>\n",
              "      <td>NaN</td>\n",
              "    </tr>\n",
              "    <tr>\n",
              "      <th>2017-08-16</th>\n",
              "      <td>-0.005848</td>\n",
              "      <td>-0.004640</td>\n",
              "      <td>-0.004022</td>\n",
              "      <td>0.008783</td>\n",
              "      <td>0.005140</td>\n",
              "    </tr>\n",
              "    <tr>\n",
              "      <th>2017-08-17</th>\n",
              "      <td>-0.018176</td>\n",
              "      <td>-0.018003</td>\n",
              "      <td>-0.019199</td>\n",
              "      <td>-0.022885</td>\n",
              "      <td>-0.017239</td>\n",
              "    </tr>\n",
              "    <tr>\n",
              "      <th>2017-08-18</th>\n",
              "      <td>0.002996</td>\n",
              "      <td>-0.002186</td>\n",
              "      <td>-0.002280</td>\n",
              "      <td>0.002709</td>\n",
              "      <td>-0.000340</td>\n",
              "    </tr>\n",
              "    <tr>\n",
              "      <th>2017-08-21</th>\n",
              "      <td>0.002210</td>\n",
              "      <td>-0.005404</td>\n",
              "      <td>-0.001841</td>\n",
              "      <td>0.001321</td>\n",
              "      <td>-0.004403</td>\n",
              "    </tr>\n",
              "    <tr>\n",
              "      <th>...</th>\n",
              "      <td>...</td>\n",
              "      <td>...</td>\n",
              "      <td>...</td>\n",
              "      <td>...</td>\n",
              "      <td>...</td>\n",
              "    </tr>\n",
              "    <tr>\n",
              "      <th>2021-11-01</th>\n",
              "      <td>0.019810</td>\n",
              "      <td>-0.016107</td>\n",
              "      <td>-0.005607</td>\n",
              "      <td>-0.013240</td>\n",
              "      <td>-0.030326</td>\n",
              "    </tr>\n",
              "    <tr>\n",
              "      <th>2021-11-02</th>\n",
              "      <td>-0.005758</td>\n",
              "      <td>-0.001615</td>\n",
              "      <td>0.007116</td>\n",
              "      <td>-0.005065</td>\n",
              "      <td>0.014530</td>\n",
              "    </tr>\n",
              "    <tr>\n",
              "      <th>2021-11-03</th>\n",
              "      <td>0.010790</td>\n",
              "      <td>0.021508</td>\n",
              "      <td>0.009799</td>\n",
              "      <td>0.015596</td>\n",
              "      <td>0.006355</td>\n",
              "    </tr>\n",
              "    <tr>\n",
              "      <th>2021-11-04</th>\n",
              "      <td>0.012756</td>\n",
              "      <td>0.027482</td>\n",
              "      <td>-0.003499</td>\n",
              "      <td>-0.028898</td>\n",
              "      <td>0.012896</td>\n",
              "    </tr>\n",
              "    <tr>\n",
              "      <th>2021-11-05</th>\n",
              "      <td>0.015721</td>\n",
              "      <td>0.012076</td>\n",
              "      <td>0.003582</td>\n",
              "      <td>-0.033932</td>\n",
              "      <td>0.003753</td>\n",
              "    </tr>\n",
              "  </tbody>\n",
              "</table>\n",
              "<p>1066 rows × 5 columns</p>\n",
              "</div>"
            ],
            "text/plain": [
              "                  FB      AMZN      AAPL      NFLX      GOOG\n",
              "Date                                                        \n",
              "2017-08-15       NaN       NaN       NaN       NaN       NaN\n",
              "2017-08-16 -0.005848 -0.004640 -0.004022  0.008783  0.005140\n",
              "2017-08-17 -0.018176 -0.018003 -0.019199 -0.022885 -0.017239\n",
              "2017-08-18  0.002996 -0.002186 -0.002280  0.002709 -0.000340\n",
              "2017-08-21  0.002210 -0.005404 -0.001841  0.001321 -0.004403\n",
              "...              ...       ...       ...       ...       ...\n",
              "2021-11-01  0.019810 -0.016107 -0.005607 -0.013240 -0.030326\n",
              "2021-11-02 -0.005758 -0.001615  0.007116 -0.005065  0.014530\n",
              "2021-11-03  0.010790  0.021508  0.009799  0.015596  0.006355\n",
              "2021-11-04  0.012756  0.027482 -0.003499 -0.028898  0.012896\n",
              "2021-11-05  0.015721  0.012076  0.003582 -0.033932  0.003753\n",
              "\n",
              "[1066 rows x 5 columns]"
            ]
          },
          "metadata": {},
          "execution_count": 10
        }
      ]
    },
    {
      "cell_type": "code",
      "metadata": {
        "colab": {
          "base_uri": "https://localhost:8080/",
          "height": 206
        },
        "id": "g6tMMBuCHgDg",
        "outputId": "5a54444f-ef82-4d02-ec34-6eebb7d08cb5"
      },
      "source": [
        "#create and show annualized covariance matrix\n",
        "cov_matrix_annual=returns.cov()*252\n",
        "cov_matrix_annual"
      ],
      "execution_count": null,
      "outputs": [
        {
          "output_type": "execute_result",
          "data": {
            "text/html": [
              "<div>\n",
              "<style scoped>\n",
              "    .dataframe tbody tr th:only-of-type {\n",
              "        vertical-align: middle;\n",
              "    }\n",
              "\n",
              "    .dataframe tbody tr th {\n",
              "        vertical-align: top;\n",
              "    }\n",
              "\n",
              "    .dataframe thead th {\n",
              "        text-align: right;\n",
              "    }\n",
              "</style>\n",
              "<table border=\"1\" class=\"dataframe\">\n",
              "  <thead>\n",
              "    <tr style=\"text-align: right;\">\n",
              "      <th></th>\n",
              "      <th>FB</th>\n",
              "      <th>AMZN</th>\n",
              "      <th>AAPL</th>\n",
              "      <th>NFLX</th>\n",
              "      <th>GOOG</th>\n",
              "    </tr>\n",
              "  </thead>\n",
              "  <tbody>\n",
              "    <tr>\n",
              "      <th>FB</th>\n",
              "      <td>0.122789</td>\n",
              "      <td>0.066807</td>\n",
              "      <td>0.067985</td>\n",
              "      <td>0.068383</td>\n",
              "      <td>0.068277</td>\n",
              "    </tr>\n",
              "    <tr>\n",
              "      <th>AMZN</th>\n",
              "      <td>0.066807</td>\n",
              "      <td>0.095868</td>\n",
              "      <td>0.063498</td>\n",
              "      <td>0.076873</td>\n",
              "      <td>0.058978</td>\n",
              "    </tr>\n",
              "    <tr>\n",
              "      <th>AAPL</th>\n",
              "      <td>0.067985</td>\n",
              "      <td>0.063498</td>\n",
              "      <td>0.102147</td>\n",
              "      <td>0.062465</td>\n",
              "      <td>0.060935</td>\n",
              "    </tr>\n",
              "    <tr>\n",
              "      <th>NFLX</th>\n",
              "      <td>0.068383</td>\n",
              "      <td>0.076873</td>\n",
              "      <td>0.062465</td>\n",
              "      <td>0.156924</td>\n",
              "      <td>0.059578</td>\n",
              "    </tr>\n",
              "    <tr>\n",
              "      <th>GOOG</th>\n",
              "      <td>0.068277</td>\n",
              "      <td>0.058978</td>\n",
              "      <td>0.060935</td>\n",
              "      <td>0.059578</td>\n",
              "      <td>0.081095</td>\n",
              "    </tr>\n",
              "  </tbody>\n",
              "</table>\n",
              "</div>"
            ],
            "text/plain": [
              "            FB      AMZN      AAPL      NFLX      GOOG\n",
              "FB    0.122789  0.066807  0.067985  0.068383  0.068277\n",
              "AMZN  0.066807  0.095868  0.063498  0.076873  0.058978\n",
              "AAPL  0.067985  0.063498  0.102147  0.062465  0.060935\n",
              "NFLX  0.068383  0.076873  0.062465  0.156924  0.059578\n",
              "GOOG  0.068277  0.058978  0.060935  0.059578  0.081095"
            ]
          },
          "metadata": {},
          "execution_count": 11
        }
      ]
    },
    {
      "cell_type": "code",
      "metadata": {
        "colab": {
          "base_uri": "https://localhost:8080/"
        },
        "id": "ph52Lq9Nl1If",
        "outputId": "980ee437-b32c-4b54-8362-90af0192d822"
      },
      "source": [
        "#portfolio variance\n",
        "port_variance=np.dot(weights.T,np.dot(cov_matrix_annual,weights))\n",
        "port_variance"
      ],
      "execution_count": null,
      "outputs": [
        {
          "output_type": "execute_result",
          "data": {
            "text/plain": [
              "0.07465509197344602"
            ]
          },
          "metadata": {},
          "execution_count": 12
        }
      ]
    },
    {
      "cell_type": "code",
      "metadata": {
        "colab": {
          "base_uri": "https://localhost:8080/"
        },
        "id": "DSYvVce9mNPk",
        "outputId": "4f4c0b50-08e1-41b5-ebfd-1e49483e6124"
      },
      "source": [
        "#calculate portfolio volatility/ standard deviation\n",
        "port_volatility=np.sqrt(port_variance)\n",
        "port_volatility"
      ],
      "execution_count": null,
      "outputs": [
        {
          "output_type": "execute_result",
          "data": {
            "text/plain": [
              "0.27323084008480086"
            ]
          },
          "metadata": {},
          "execution_count": 13
        }
      ]
    },
    {
      "cell_type": "code",
      "metadata": {
        "colab": {
          "base_uri": "https://localhost:8080/"
        },
        "id": "UAV252gqtrcE",
        "outputId": "c314d5b1-71fc-40b0-f3ca-ff4721262613"
      },
      "source": [
        "#calculate the annual portfolio return\n",
        "portfolio_simple_annual_return=np.sum(returns.mean()*weights)*252\n",
        "portfolio_simple_annual_return"
      ],
      "execution_count": null,
      "outputs": [
        {
          "output_type": "execute_result",
          "data": {
            "text/plain": [
              "0.3330323452220299"
            ]
          },
          "metadata": {},
          "execution_count": 14
        }
      ]
    },
    {
      "cell_type": "code",
      "metadata": {
        "colab": {
          "base_uri": "https://localhost:8080/"
        },
        "id": "m1v8rNa7uXU9",
        "outputId": "1b8ea1b5-dea3-4529-eafc-995ed86fc906"
      },
      "source": [
        "#show the expected annual return, volatility(risk), and variance\n",
        "percent_var=str(round(port_variance,2)*100)+'%'\n",
        "percent_vols=str(round(port_volatility,2)*100)+'%'\n",
        "percent_rets=str(round(portfolio_simple_annual_return,2)*100)+'%'\n",
        "\n",
        "print('Expected annual returns: ', percent_rets)\n",
        "print('annual volatility/risk: ', percent_vols)\n",
        "print('annual variance: ', percent_var)"
      ],
      "execution_count": null,
      "outputs": [
        {
          "output_type": "stream",
          "name": "stdout",
          "text": [
            "Expected annual returns:  33.0%\n",
            "annual volatility/risk:  27.0%\n",
            "annual variance:  7.000000000000001%\n"
          ]
        }
      ]
    },
    {
      "cell_type": "code",
      "metadata": {
        "colab": {
          "base_uri": "https://localhost:8080/"
        },
        "id": "GjhrnXp5EbG6",
        "outputId": "0105b625-8aff-4a90-9b88-9c358b238e92"
      },
      "source": [
        "pip install PyPortfolioOpt"
      ],
      "execution_count": null,
      "outputs": [
        {
          "output_type": "stream",
          "name": "stdout",
          "text": [
            "Collecting PyPortfolioOpt\n",
            "  Downloading PyPortfolioOpt-1.5.1-py3-none-any.whl (61 kB)\n",
            "\u001b[K     |████████████████████████████████| 61 kB 4.4 MB/s \n",
            "\u001b[?25hCollecting cvxpy<2.0.0,>=1.1.10\n",
            "  Downloading cvxpy-1.1.17-cp37-cp37m-manylinux_2_24_x86_64.whl (2.8 MB)\n",
            "\u001b[K     |████████████████████████████████| 2.8 MB 22.9 MB/s \n",
            "\u001b[?25hRequirement already satisfied: scipy<2.0,>=1.3 in /usr/local/lib/python3.7/dist-packages (from PyPortfolioOpt) (1.4.1)\n",
            "Requirement already satisfied: numpy<2.0,>=1.12 in /usr/local/lib/python3.7/dist-packages (from PyPortfolioOpt) (1.19.5)\n",
            "Requirement already satisfied: pandas>=0.19 in /usr/local/lib/python3.7/dist-packages (from PyPortfolioOpt) (1.1.5)\n",
            "Requirement already satisfied: osqp>=0.4.1 in /usr/local/lib/python3.7/dist-packages (from cvxpy<2.0.0,>=1.1.10->PyPortfolioOpt) (0.6.2.post0)\n",
            "Requirement already satisfied: scs>=1.1.6 in /usr/local/lib/python3.7/dist-packages (from cvxpy<2.0.0,>=1.1.10->PyPortfolioOpt) (2.1.4)\n",
            "Requirement already satisfied: ecos>=2 in /usr/local/lib/python3.7/dist-packages (from cvxpy<2.0.0,>=1.1.10->PyPortfolioOpt) (2.0.7.post1)\n",
            "Requirement already satisfied: qdldl in /usr/local/lib/python3.7/dist-packages (from osqp>=0.4.1->cvxpy<2.0.0,>=1.1.10->PyPortfolioOpt) (0.1.5.post0)\n",
            "Requirement already satisfied: python-dateutil>=2.7.3 in /usr/local/lib/python3.7/dist-packages (from pandas>=0.19->PyPortfolioOpt) (2.8.2)\n",
            "Requirement already satisfied: pytz>=2017.2 in /usr/local/lib/python3.7/dist-packages (from pandas>=0.19->PyPortfolioOpt) (2018.9)\n",
            "Requirement already satisfied: six>=1.5 in /usr/local/lib/python3.7/dist-packages (from python-dateutil>=2.7.3->pandas>=0.19->PyPortfolioOpt) (1.15.0)\n",
            "Installing collected packages: cvxpy, PyPortfolioOpt\n",
            "  Attempting uninstall: cvxpy\n",
            "    Found existing installation: cvxpy 1.0.31\n",
            "    Uninstalling cvxpy-1.0.31:\n",
            "      Successfully uninstalled cvxpy-1.0.31\n",
            "Successfully installed PyPortfolioOpt-1.5.1 cvxpy-1.1.17\n"
          ]
        }
      ]
    },
    {
      "cell_type": "code",
      "metadata": {
        "id": "dWyP7idtEucK"
      },
      "source": [
        "from pypfopt.efficient_frontier import EfficientFrontier\n",
        "from pypfopt import risk_models\n",
        "from pypfopt import expected_returns"
      ],
      "execution_count": null,
      "outputs": []
    },
    {
      "cell_type": "code",
      "metadata": {
        "colab": {
          "base_uri": "https://localhost:8080/"
        },
        "id": "2HipqcynH_Kq",
        "outputId": "be5ebb64-a87a-4102-d026-a4fabc4650b7"
      },
      "source": [
        "# portfolio optimization\n",
        "\n",
        "# calculate the expected returns and the annualised sample covariance matrix  of the asset returns\n",
        "mu = expected_returns.mean_historical_return(df)\n",
        "S = risk_models.sample_cov(df)\n",
        "\n",
        "# optimize max sharpe ratio\n",
        "ef = EfficientFrontier(mu,S)\n",
        "weights = ef.max_sharpe()\n",
        "cleaned_weights=ef.clean_weights()\n",
        "print(cleaned_weights)\n",
        "ef.portfolio_performance(verbose=True)"
      ],
      "execution_count": null,
      "outputs": [
        {
          "output_type": "stream",
          "name": "stdout",
          "text": [
            "OrderedDict([('FB', 0.0), ('AMZN', 0.2426), ('AAPL', 0.40439), ('NFLX', 0.12019), ('GOOG', 0.23283)])\n",
            "Expected annual return: 36.0%\n",
            "Annual volatility: 27.1%\n",
            "Sharpe Ratio: 1.25\n"
          ]
        },
        {
          "output_type": "execute_result",
          "data": {
            "text/plain": [
              "(0.3596685593582625, 0.2710968848529461, 1.2529415804335502)"
            ]
          },
          "metadata": {},
          "execution_count": 18
        }
      ]
    },
    {
      "cell_type": "code",
      "metadata": {
        "colab": {
          "base_uri": "https://localhost:8080/"
        },
        "id": "dwj0cBIIS65y",
        "outputId": "7fbf9a4f-2431-4b0b-c9c8-fef03027685b"
      },
      "source": [
        "from pypfopt.discrete_allocation import DiscreteAllocation, get_latest_prices\n",
        "\n",
        "latest_prices = get_latest_prices(df)\n",
        "weights = cleaned_weights\n",
        "da = DiscreteAllocation(weights, latest_prices, total_portfolio_value = 20000)\n",
        "\n",
        "allocation, leftover = da.lp_portfolio()\n",
        "print('discrete allocation: ', allocation)\n",
        "print('funds remaining: ${:.2f}'.format(leftover))"
      ],
      "execution_count": null,
      "outputs": [
        {
          "output_type": "stream",
          "name": "stdout",
          "text": [
            "discrete allocation:  {'AMZN': 1, 'AAPL': 52, 'NFLX': 4, 'GOOG': 2}\n",
            "funds remaining: $61.93\n"
          ]
        }
      ]
    },
    {
      "cell_type": "code",
      "metadata": {
        "id": "ue7K5gAbQpfL"
      },
      "source": [],
      "execution_count": null,
      "outputs": []
    }
  ]
}